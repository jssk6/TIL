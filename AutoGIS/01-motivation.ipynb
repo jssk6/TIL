{
 "cells": [
  {
   "cell_type": "markdown",
   "metadata": {},
   "source": [
    "### 우리의 목표\n",
    "- 다양한 파일 형식에서 다른 공간 형식으로 공간 데이터 읽기 / 쓰기\n",
    "- 다른 Projection을 다루기\n",
    "- 다양한 기하 연산 및 지오 코딩 수행\n",
    "- 다른 criteria(영역)에 따라 데이터를 재 분류\n",
    "- 공간 쿼리 수행\n",
    "- 간단한 공간 분석 수행\n",
    "- 다음과 같이 데이터를 시각화하고 (대화 형) 지도 생성"
   ]
  },
  {
   "cell_type": "markdown",
   "metadata": {},
   "source": [
    "### Python에서 GIS를 하는 이유\n",
    "- 모두 무료\n",
    "- 다른 geporocessing 작동 방식을 더 깊이 배움\n",
    "- 파이썬은 매우 효율적이고 유연함\n",
    "- 파이썬 오픈소스를 지원\n",
    "- PostGIS와 함께 GeoDjango를 백엔드로 사용하는 등 다양한 것을 결합 가능"
   ]
  },
  {
   "cell_type": "markdown",
   "metadata": {},
   "source": [
    "### 데이터 분석 및 시각화 :\n",
    "- Numpy -> 파이썬으로 과학 컴퓨팅을위한 기본 패키지\n",
    "- Pandas -> 고성능, 사용하기 쉬운 데이터 구조 및 데이터 분석 도구\n",
    "- Scipy -> 신호 처리, 최적화 및 통계를 포함한 수치 알고리즘 및 도메인 별 도구 상자 모음\n",
    "- Matplotlib -> 파이썬 용 기본 플로팅 라이브러리\n",
    "- Bokeh -> 대화식 시각화 웹 (지도)\n",
    "- Plotly -> 웹용 대화 형 시각화 (지도) (교육용으로 상업용 없음)\n",
    "\n",
    "### GIS \n",
    "- GDAL -> 벡터 및 래스터 데이터 형식을 처리하기위한 기본 패키지 (많은 모듈이 GDAL에 의존적임). 래스터 처리에 사용됩니다\n",
    "- Geopandas -> Python에서 지형 공간 데이터로 작업하는 것이 더 쉽게 이루어졌으며 pandas의 기능과 shapely 기능을 결합했습니다\n",
    "- Shapely -> 평면 기하학적 객체의 조작 및 분석을위한 Python 패키지 (널리 배치 된 GEOS를 기반으로 함)\n",
    "- Fiona -> 공간 데이터 읽기 및 쓰기 (Geopandas의 대안)\n",
    "- Pyproj -> 지도 제작 변형 및 측지 계산을 수행합니다 (PROJ.4 기준)\n",
    "- Pysal -> 파이썬으로 작성된 공간 분석 함수의 라이브러리\n",
    "- Geopy -> 지오 코딩 라이브러리 <-> 주소를 좌표로 지정\n",
    "- Contextily -> (정적) 맵 시각화를위한 배경 기본 맵 추가\n",
    "- GeoViews -> 대화식 웹지도\n",
    "- Geoplot -> Python을 위한 고차원 지형 공간 데이터 시각화 라이브러리\n",
    "- Dash -> Dash는 분석 웹 응용 프로그램을 작성하기위한 Python 프레임 워크입니다\n",
    "- OSMnx -> 거리 네트워크 용 Python. OpenStreetMap에서 거리 네트워크 검색, 구성, 분석 및 시각화\n",
    "- Networkx -> Python의 네트워크 분석 및 라우팅 (예 : Dijkstra 및 A * 알고리즘)\n",
    "- Cartopy -> 데이터 분석 및 시각화를 위해 쉽게 지도를 그릴 수 있음\n",
    "- Scipy.spatial -> 공간 알고리즘 및 데이터 구조\n",
    "- Rtree -> 빠른 공간 검색을 위한 Python의 공간 색인화\n",
    "- Rasterio -> Python을위한 깨끗하고 빠르며 지형적인 래스터 I / O\n",
    "- RSGISLib -> Python 용 원격 감지 및 GIS 소프트웨어 라이브러리"
   ]
  },
  {
   "cell_type": "markdown",
   "metadata": {},
   "source": [
    "### Lesson Overview\n",
    "- Geometric Objects\n",
    "    - Shapely 사용\n",
    "    Point\n",
    "    LineString\n",
    "    Polygon\n",
    "    Geometry collections\n"
   ]
  },
  {
   "cell_type": "code",
   "execution_count": null,
   "metadata": {},
   "outputs": [],
   "source": []
  }
 ],
 "metadata": {
  "kernelspec": {
   "display_name": "Python 3",
   "language": "python",
   "name": "python3"
  },
  "language_info": {
   "codemirror_mode": {
    "name": "ipython",
    "version": 3
   },
   "file_extension": ".py",
   "mimetype": "text/x-python",
   "name": "python",
   "nbconvert_exporter": "python",
   "pygments_lexer": "ipython3",
   "version": "3.7.3"
  },
  "varInspector": {
   "cols": {
    "lenName": 16,
    "lenType": 16,
    "lenVar": 40
   },
   "kernels_config": {
    "python": {
     "delete_cmd_postfix": "",
     "delete_cmd_prefix": "del ",
     "library": "var_list.py",
     "varRefreshCmd": "print(var_dic_list())"
    },
    "r": {
     "delete_cmd_postfix": ") ",
     "delete_cmd_prefix": "rm(",
     "library": "var_list.r",
     "varRefreshCmd": "cat(var_dic_list()) "
    }
   },
   "types_to_exclude": [
    "module",
    "function",
    "builtin_function_or_method",
    "instance",
    "_Feature"
   ],
   "window_display": false
  }
 },
 "nbformat": 4,
 "nbformat_minor": 2
}
